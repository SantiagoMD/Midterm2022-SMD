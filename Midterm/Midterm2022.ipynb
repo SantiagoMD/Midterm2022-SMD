{
 "cells": [
  {
   "cell_type": "markdown",
   "metadata": {},
   "source": [
    "# Midterm Exam Winter 2022"
   ]
  },
  {
   "cell_type": "markdown",
   "metadata": {},
   "source": [
    "This midterm exam is an open-book, open-resource exam. However, you may not collaborate with anyone. Please send clarification questions and hint requests to me at [adrian.liu2@mcgill.ca](mailto:adrian.liu2@mcgill.ca). Submission instructions are below. The exam is due at 11:59:59 Eastern on February 24th, 2022.\n",
    "\n",
    "You may copy and paste code from your previous assignments, but __you must cite your sources__. E.g., if you want to use a function that you wrote in Coding Lab 02, please include the comment \"this function was copied from Coding Lab 02\"\n",
    "\n",
    "**There will be a few points available in questions 4 and 6 for good coding habits. For example, if there is a bit of code that you intend to reuse, define a function rather than copying and pasting it multiple times!**"
   ]
  },
  {
   "cell_type": "markdown",
   "metadata": {},
   "source": [
    "## Question 1"
   ]
  },
  {
   "cell_type": "markdown",
   "metadata": {},
   "source": [
    "I have created a ``git`` repo here: https://github.com/acliu/PHYS321_Midterm2022.git. In this repo there is an old ``git`` commit with the commit message \"movie quote commit here\". In that commit is a file called ``movie_quote.txt`` (which no longer exists in the current commit), and inside the file is a quote from a movie:\n",
    "1. Retrieve this quote and write it down below.\n",
    "2. Write down the ``git`` commands you used to clone the repo and the commands you used to help you retrieve the quote.\n",
    "\n",
    "There are multiple ways to do this using ``git``. I am not picky about how you do this, as long as 1) you used the command line, and 2) it isn't \"I went to the Github website and looked there\"."
   ]
  },
  {
   "cell_type": "markdown",
   "metadata": {},
   "source": [
    "#Quote: May the Force be with you (nice choice of quote if I do say so myself)\n",
    "\n",
    "cd Documents\n",
    "\n",
    "git clone  https://github.com/acliu/PHYS321_Midterm2022.git\n",
    "\n",
    "cd PHYS321_Midterm2022/\n",
    "\n",
    "git log\n",
    "\n",
    "git checkout de42a1ec2db49877f6056fe9d1545f71f417f097\n",
    "\n",
    "I then opened the file on notebook since I was now on the de42a1ec2db49877f6056fe9d1545f71f417f097 branch and voila\n",
    "\n",
    "(Steps taken from the first CodingLab pdf)"
   ]
  },
  {
   "cell_type": "markdown",
   "metadata": {},
   "source": [
    "## Question 2"
   ]
  },
  {
   "cell_type": "markdown",
   "metadata": {},
   "source": [
    "Create a **new** repo on the ``github`` website and clone it. Do an initial commit of this Jupyter notebook locally on your command line and commit with the message \"first commit of midterm\". Do this now (because I will be looking for a commit in your history prior to your final submission). Push to your repo. Write down all the commands that you used on the command line to do this."
   ]
  },
  {
   "cell_type": "markdown",
   "metadata": {},
   "source": [
    "git clone https://github.com/SantiagoMD/Midterm2022-SMD.git(In documents with other repos)\n",
    "    \n",
    "cd Phys321_LABS (My personal repo in which I had the midterm .ipynb)\n",
    "\n",
    "cd Midterm\n",
    "\n",
    "cp -r /c/Users/santi/Documents/Phys321_LABS/Midterm /c/Users/santi/Documents/Midterm2022-SMD/ (move a copy of the midterm folder to the new repo) (line from:https://stackoverflow.com/questions/32454065/windows-cp-file-in-git-bash)\n",
    "\n",
    "cd .. (Twice to get to Documents) and then cd Midterm2022-SMD/\n",
    "\n",
    "cd Midterm\n",
    "\n",
    "git add Midterm2022.ipynb\n",
    " \n",
    "git commit -m\"First commit of the midterm (question 2)\"\n",
    "\n",
    "git push origin main"
   ]
  },
  {
   "cell_type": "markdown",
   "metadata": {},
   "source": [
    "## Question 3"
   ]
  },
  {
   "cell_type": "markdown",
   "metadata": {},
   "source": [
    "Note that although the answers to 3(a) and 3(c) can be found by Googling, to get full credit you will need to show how you can get the answer using code. "
   ]
  },
  {
   "cell_type": "markdown",
   "metadata": {},
   "source": [
    "__a)__ A few years ago people thought that the star Betelgeuse could go supernova. Where is Betelgeuse (in RA and DEC)?"
   ]
  },
  {
   "cell_type": "code",
   "execution_count": 36,
   "metadata": {},
   "outputs": [
    {
     "data": {
      "text/plain": [
       "<SkyCoord (ICRS): (ra, dec) in deg\n",
       "    (88.79293899, 7.407064)>"
      ]
     },
     "execution_count": 36,
     "metadata": {},
     "output_type": "execute_result"
    }
   ],
   "source": [
    "#from Coding Lab 1\n",
    "from astropy import units as u\n",
    "from astropy.coordinates import SkyCoord\n",
    "Betelgeuse = SkyCoord.from_name('Betelgeuse')\n",
    "Betelgeuse"
   ]
  },
  {
   "cell_type": "markdown",
   "metadata": {},
   "source": [
    "__b)__ Is Betelgeuse viewable from all parts of the northern hemisphere? Is it viewable from all parts of the southern hemisphere?"
   ]
  },
  {
   "cell_type": "markdown",
   "metadata": {},
   "source": [
    "Since Betelgeuse is at a declination 7 degrees above the equator, it can be seen from both the southern and the northern hemisphere. It is not visible from every location in the southern hemisphere since it is still on th northern hemisphere of the spherical projection of the night's sky. "
   ]
  },
  {
   "cell_type": "markdown",
   "metadata": {},
   "source": [
    "__c)__ Suppose Betelgeuse were to go supernova during March break. For roughly how many hours every night will it be in principle observable? (Assume that we have a telescope that can be see horizon-to-horizon, and neglect the fact that Sun can affect astronomical observations even when it is slightly below the horizon"
   ]
  },
  {
   "cell_type": "code",
   "execution_count": 37,
   "metadata": {},
   "outputs": [
    {
     "data": {
      "image/png": "[encoded data removed]",
      "text/plain": [
       "<Figure size 432x288 with 1 Axes>"
      ]
     },
     "metadata": {
      "needs_background": "light"
     },
     "output_type": "display_data"
    },
    {
     "data": {
      "image/png": "[encoded data removed]",
      "text/plain": [
       "<Figure size 432x288 with 1 Axes>"
      ]
     },
     "metadata": {
      "needs_background": "light"
     },
     "output_type": "display_data"
    },
    {
     "name": "stdout",
     "output_type": "stream",
     "text": [
      "The amount of hours that the super nova would be visible from McGill during the march break would be around 5 hours and 15 minutes if we consider the sun to set arounf 6 pm and rise around 6 am.\n"
     ]
    }
   ],
   "source": [
    "from urllib.parse import urlencode\n",
    "from urllib.request import urlretrieve\n",
    "from IPython.display import Image\n",
    "import numpy as np\n",
    "import matplotlib.pyplot as plt\n",
    "%matplotlib inline\n",
    "from astropy.coordinates import EarthLocation, AltAz\n",
    "from astropy.time import Time\n",
    "\n",
    "observing_time = Time('2020-01-08 6:00') # initial observing time \n",
    "McGill = EarthLocation(lat='45d30.29m', lon='-73d34.63m')\n",
    "\n",
    "observing_time_array = []\n",
    "\n",
    "for i in range(12):\n",
    "    observing_time_array.append(observing_time + i * u.hour)\n",
    "    \n",
    "ref_frame = AltAz(location=McGill, obstime=observing_time_array)\n",
    "Betelgeuse.transform_to(ref_frame).az\n",
    "Betelgeuse.transform_to(ref_frame).alt\n",
    "time = np.linspace(1,12,12)\n",
    "#plt.plot(time,Betelgeuse.transform_to(ref_frame).az,'r')\n",
    "plt.plot(time,Betelgeuse.transform_to(ref_frame).alt,'g')\n",
    "plt.show()\n",
    "plt.plot(time,Betelgeuse.transform_to(ref_frame).alt,'g')\n",
    "plt.ylim(0,40)\n",
    "plt.xlim(0,5.20)\n",
    "plt.show()\n",
    "print('The amount of hours that the super nova would be visible from McGill during the march break would be around 5 hours and 15 minutes if we consider the sun to set arounf 6 pm and rise around 6 am.')"
   ]
  },
  {
   "cell_type": "markdown",
   "metadata": {},
   "source": [
    "## Question 4"
   ]
  },
  {
   "cell_type": "markdown",
   "metadata": {},
   "source": [
    "Let's compare the Hubble Space Telescope (HST) to the recently launched (and soon operational!) James Webb Space Telescope (JWST)."
   ]
  },
  {
   "cell_type": "markdown",
   "metadata": {},
   "source": [
    "__a)__ First we'll compare the sensitivity of these telescopes. HST is said to have a \"limiting magnitude\" $+31.5$ while JWST's is $+34$. Which telescope can see fainter things? By what factor? (In reality this is not an entirely fair comparison because HST and JWST observe at different wavelengths and are good at different types of science)."
   ]
  },
  {
   "cell_type": "markdown",
   "metadata": {},
   "source": [
    "The limiting magnitude of a telescope is the \"is the apparent magnitude of the faintest object that is visible\" (1). By this logic, JWST having a bigger limiting magnitude of +34 can see fainter objects than HST.\n",
    "\n",
    "Since the magnitude scale is logarithmic, with JWST having a limiting magnitude of 34 and HST a magnitude of 31.5, we can determine that the 31.5 magnitude object would be brighter by a factor of 10^1.4  \n",
    "\n",
    "                     (m2 - m1) = 2.5log10(b1/b2)         (2)\n",
    "\n",
    "1. https://astronomy.swin.edu.au/cosmos/l/Limiting+Magnitude#:~:text=The%20limiting%20magnitude%20is%20the,the%20fainter%20the%20limiting%20magnitude.\n",
    "\n",
    "2. https://lco.global/spacebook/distance/comparing-magnitudes-different-objects/\n"
   ]
  },
  {
   "cell_type": "markdown",
   "metadata": {},
   "source": [
    "__b)__ Produce the following plots:\n",
    "* The minimum luminosity of an object (expressed in absolute magnitudes) that can be seen by HST and JWST as a function of redshift $z$\n",
    "* The same plots but with the luminosity expressed in units of the Solar luminosity $L_\\odot$\n",
    "* The previous two plots but as a function of distance rather than redshift.\n",
    "\n",
    "Have your plots span $0 < z < 10$, and make sure the plots are visually easy to read. (Marks will be deducted if, for example, the trends cannot be easily seen because of inappropriate axis ranges)."
   ]
  },
  {
   "cell_type": "code",
   "execution_count": 43,
   "metadata": {},
   "outputs": [
    {
     "data": {
      "image/png": "[encoded data removed]",
      "text/plain": [
       "<Figure size 432x288 with 1 Axes>"
      ]
     },
     "metadata": {
      "needs_background": "light"
     },
     "output_type": "display_data"
    },
    {
     "data": {
      "image/png": "[encoded data removed]",
      "text/plain": [
       "<Figure size 432x288 with 1 Axes>"
      ]
     },
     "metadata": {
      "needs_background": "light"
     },
     "output_type": "display_data"
    }
   ],
   "source": [
    "from astropy.cosmology import FlatLambdaCDM\n",
    "z=np.linspace(10,0,100, endpoint=False)[::-1] #From: https://stackoverflow.com/questions/62594562/how-to-exclude-starting-point-from-linspace-function-under-numpy-in-python\n",
    "cosmo = FlatLambdaCDM(H0=70*u.km/u.s/u.Mpc, Om0=0.3)\n",
    "dL = np.array(cosmo.luminosity_distance(z))\n",
    "M_HST=31.5-5*(np.log10(dL)-1)\n",
    "M_JWST=34-5*(np.log10(dL)-1)\n",
    "plt.plot(z, M_HST,'b', label = 'HST')\n",
    "plt.plot(z,M_JWST,'r', label = 'JWST')\n",
    "plt.legend()\n",
    "plt.xlabel(\"Redshift\")\n",
    "plt.ylabel(\"Absolute Magnitude\")\n",
    "plt.show()\n",
    "\n",
    "\n",
    "\n",
    "plt.plot(dL, M_HST,'b', label = 'HST')\n",
    "plt.plot(dL,M_JWST,'r', label = 'JWST')\n",
    "plt.legend()\n",
    "plt.xlabel(\"Luminosity Distance\")\n",
    "plt.ylabel(\"Absolute Magnitude\")\n",
    "plt.show()"
   ]
  },
  {
   "cell_type": "markdown",
   "metadata": {},
   "source": [
    "__c)__ Suppose we lived in a (fake) universe that contained only three types of galaxies, each of which have an exact well-defined luminosity:\n",
    "* Type A galaxies that have luminosity $L = 10^{8}L_\\odot$. These galaxies have a number density of $10^{-2}$ per comoving Mpc$^{3}$.\n",
    "* Type B galaxies that have luminosity $L = 10^{10}L_\\odot$. These galaxies have a number density of $5 \\times 10^{-2}$ per comoving Mpc$^{3}$.\n",
    "* Type C galaxies that have luminosity $L = 10^{12}L_\\odot$. These galaxies have a number density of $10^{-3}$ per comoving Mpc$^{3}$.\n",
    "\n",
    "Now imagine (completely unrealistically) that we get to use HST and JWST to perform a galaxy survey over the entire sky. How many of each galaxy type should I expect to find?"
   ]
  },
  {
   "cell_type": "code",
   "execution_count": 48,
   "metadata": {},
   "outputs": [
    {
     "data": {
      "text/plain": [
       "599.9461130877913"
      ]
     },
     "execution_count": 48,
     "metadata": {},
     "output_type": "execute_result"
    }
   ],
   "source": [
    "## Your answer here\n",
    "from astropy.cosmology import Planck15\n",
    "from astropy.cosmology import z_at_value\n",
    "z_at_value(Planck15.age,0.001* u.Gyr)"
   ]
  },
  {
   "cell_type": "markdown",
   "metadata": {},
   "source": [
    "## Question 5"
   ]
  },
  {
   "cell_type": "markdown",
   "metadata": {},
   "source": [
    "Note that this question is designed to be a little bit more open-ended than the others. You will need to explain your answer **in addition** to performing some simple calculations."
   ]
  },
  {
   "cell_type": "markdown",
   "metadata": {},
   "source": [
    "I am interested in designing a spam filter that decides if an email is suspicious or not by looking for various key words. Would the word \"free\" be a good one to use? Support your answer with a calculation. Feel free to collect some data from your own inbox! If the word \"free\" is an effective one to use, what would be an example of an ineffective word? And why would it be ineffective? If you decide that \"free\" is ineffective, give an example of a better choice. In both cases, explain why. (Ideally with some numerical examples)."
   ]
  },
  {
   "cell_type": "markdown",
   "metadata": {},
   "source": [
    "When looking at my gmail and looking for e-mails containing the word free in my inbox, 820 such e-mails were found. Out of those 820 emails, 109 were categorized as not being promotions  by Gmail. There are also 3756 total promotions in my inbox and 5917 emails in my inbox.\n",
    "\n",
    "\\begin{equation}\n",
    "P(free|promo) = \\frac{(free-free NotPromos)}{free}=0.86409\n",
    "\\end{equation} \n",
    "\n",
    "\n",
    "\\begin{equation}\n",
    "P(promo) = \\frac{(promo)}{TotalEmail}=0.634781\n",
    "\\end{equation}\n",
    "\n",
    "\n",
    "\\begin{equation}\n",
    "P(free) = \\frac{(free)}{TotalEmail}=0.135542\n",
    "\\end{equation}\n",
    "\n",
    "\n",
    "\\begin{equation}\n",
    "p(promo|free) = \\frac{P(free|promo) P(promo)}{P(free)}=0.074346\n",
    "\\end{equation}\n",
    "\n",
    "Therefore, the probability that this filter would accurately pick out promotions with the keyword free in it is of 0.07. This 0.07 probability seems very small but it is in my opinion a better option than other possible words such as cash. In the case for cash, only 82 promotions contained the word, which would return a p(promo|free) lower than for free.\n"
   ]
  },
  {
   "cell_type": "markdown",
   "metadata": {},
   "source": [
    "## Question 6"
   ]
  },
  {
   "cell_type": "markdown",
   "metadata": {},
   "source": [
    "Tony and Stephen are selling cakes on rue Sherbrooke. Their boss, Carol, has noticed that the number of cakes they sell per hour is well-modelled by a Poisson distribution. That is, if $n$ is a random variable signifying the number of cakes sold in an hour, the probability distribution $p(n)$ is given by\n",
    "\n",
    "\\begin{equation}\n",
    "p(n) = \\frac{e^{-\\lambda} \\lambda^n}{n!}\n",
    "\\end{equation}"
   ]
  },
  {
   "cell_type": "markdown",
   "metadata": {},
   "source": [
    "Carol has noticed, however, that the mean number of cakes sold per hour is different for her two salespeople. In other words, $\\lambda_\\textrm{tony} \\neq \\lambda_\\textrm{stephen}$. Through years of observations, she has determined that $\\lambda_\\textrm{tony} = 5$ and $\\lambda_\\textrm{stephen} = 8$."
   ]
  },
  {
   "cell_type": "markdown",
   "metadata": {},
   "source": [
    "Today, Stephen worked for 6 hours and claimed that he sold $6$, $6$, $8$, $8$, $6$, $8$ cakes (each number represents the number of cakes sold in an hour). These numbers are kinda low for Stephen, so Carol confronts him and asks him if Tony had secretly substituted for him. Stephen objects. He says that there are always random fluctuations, and that he'll really need to see a rigorous statistical analysis."
   ]
  },
  {
   "cell_type": "markdown",
   "metadata": {},
   "source": [
    "Carol turns to you for help, asking you to use your Bayesian inference skills to help her out. Can you help her? Do you think Tony substituted for Stephen? How confident are you in your conclusion?"
   ]
  },
  {
   "cell_type": "code",
   "execution_count": 54,
   "metadata": {},
   "outputs": [
    {
     "ename": "TypeError",
     "evalue": "only integer scalar arrays can be converted to a scalar index",
     "output_type": "error",
     "traceback": [
      "\u001b[1;31m---------------------------------------------------------------------------\u001b[0m",
      "\u001b[1;31mTypeError\u001b[0m                                 Traceback (most recent call last)",
      "\u001b[1;32m~\\AppData\\Local\\Temp/ipykernel_2548/2268393374.py\u001b[0m in \u001b[0;36m<module>\u001b[1;34m\u001b[0m\n\u001b[0;32m      1\u001b[0m \u001b[1;31m## Your answer here\u001b[0m\u001b[1;33m\u001b[0m\u001b[1;33m\u001b[0m\u001b[0m\n\u001b[0;32m      2\u001b[0m \u001b[0mn\u001b[0m\u001b[1;33m=\u001b[0m\u001b[0mnp\u001b[0m\u001b[1;33m.\u001b[0m\u001b[0marray\u001b[0m\u001b[1;33m(\u001b[0m\u001b[1;33m[\u001b[0m\u001b[1;36m6\u001b[0m\u001b[1;33m,\u001b[0m\u001b[1;36m6\u001b[0m\u001b[1;33m,\u001b[0m\u001b[1;36m8\u001b[0m\u001b[1;33m,\u001b[0m\u001b[1;36m8\u001b[0m\u001b[1;33m,\u001b[0m\u001b[1;36m6\u001b[0m\u001b[1;33m,\u001b[0m\u001b[1;36m8\u001b[0m\u001b[1;33m]\u001b[0m\u001b[1;33m)\u001b[0m\u001b[1;33m\u001b[0m\u001b[1;33m\u001b[0m\u001b[0m\n\u001b[1;32m----> 3\u001b[1;33m \u001b[0mp_Ns\u001b[0m\u001b[1;33m=\u001b[0m\u001b[1;33m(\u001b[0m\u001b[0mnp\u001b[0m\u001b[1;33m.\u001b[0m\u001b[0mexp\u001b[0m\u001b[1;33m(\u001b[0m\u001b[1;33m-\u001b[0m\u001b[1;36m8\u001b[0m\u001b[1;33m)\u001b[0m\u001b[1;33m*\u001b[0m\u001b[1;33m(\u001b[0m\u001b[1;36m8\u001b[0m\u001b[1;33m**\u001b[0m\u001b[0mn\u001b[0m\u001b[1;33m)\u001b[0m\u001b[1;33m)\u001b[0m\u001b[1;33m/\u001b[0m\u001b[1;33m(\u001b[0m\u001b[0mnp\u001b[0m\u001b[1;33m.\u001b[0m\u001b[0mmath\u001b[0m\u001b[1;33m.\u001b[0m\u001b[0mfactorial\u001b[0m\u001b[1;33m(\u001b[0m\u001b[0mn\u001b[0m\u001b[1;33m)\u001b[0m\u001b[1;33m)\u001b[0m\u001b[1;33m\u001b[0m\u001b[1;33m\u001b[0m\u001b[0m\n\u001b[0m",
      "\u001b[1;31mTypeError\u001b[0m: only integer scalar arrays can be converted to a scalar index"
     ]
    }
   ],
   "source": [
    "## Your answer here\n",
    "n=np.array([6,6,8,8,6,8])\n",
    "p_Ns=(np.exp(-8)*(8**n))/(np.math.factorial(n))"
   ]
  },
  {
   "cell_type": "markdown",
   "metadata": {},
   "source": [
    "## Ungraded question"
   ]
  },
  {
   "cell_type": "markdown",
   "metadata": {},
   "source": [
    "I would like to tailor the last third of the course to your interests, as well as to get your overall feedback on things. Please fill out [this](https://forms.gle/Sy4Lf6QVdYdUA23a6) anonymous survey to help me with that. This is not a graded part of your midterm, but now is just a convenient time to do it."
   ]
  },
  {
   "cell_type": "markdown",
   "metadata": {},
   "source": [
    "## Submission"
   ]
  },
  {
   "cell_type": "markdown",
   "metadata": {},
   "source": [
    "You're done! Do a final git commit, taking care to include everything relevant (e.g., if you created a new ``tools.py`` file, be sure to include it). If you decide to revise your answers before the deadline, no problem---just make the changes you want to make and resubmit your work. Push your work to your repo, and send me an invitation to the repo (my Github username is acliu)"
   ]
  }
 ],
 "metadata": {
  "kernelspec": {
   "display_name": "Python 3 (ipykernel)",
   "language": "python",
   "name": "python3"
  },
  "language_info": {
   "codemirror_mode": {
    "name": "ipython",
    "version": 3
   },
   "file_extension": ".py",
   "mimetype": "text/x-python",
   "name": "python",
   "nbconvert_exporter": "python",
   "pygments_lexer": "ipython3",
   "version": "3.9.7"
  }
 },
 "nbformat": 4,
 "nbformat_minor": 4
}
